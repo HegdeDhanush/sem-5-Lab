{
 "cells": [
  {
   "cell_type": "code",
   "execution_count": 1,
   "id": "161f5ed2-d256-41f8-8c93-90f96dd9ab55",
   "metadata": {},
   "outputs": [
    {
     "name": "stdout",
     "output_type": "stream",
     "text": [
      "tensor([[1, 2],\n",
      "        [3, 4]])\n"
     ]
    }
   ],
   "source": [
    "import torch\n",
    "#Directly from data\n",
    "data = [[1, 2], [3, 4]]\n",
    "x_data = torch.tensor(data)\n",
    "print(x_data)"
   ]
  },
  {
   "cell_type": "code",
   "execution_count": 2,
   "id": "20971ef2-4e67-4890-884d-f01a5349c493",
   "metadata": {},
   "outputs": [
    {
     "name": "stdout",
     "output_type": "stream",
     "text": [
      "tensor([[1, 2],\n",
      "        [3, 4]], dtype=torch.int32)\n"
     ]
    }
   ],
   "source": [
    "# From Numpy array\n",
    "import numpy as np\n",
    "np_array = np.array(data)\n",
    "x_np = torch.from_numpy(np_array)\n",
    "print(x_np)"
   ]
  },
  {
   "cell_type": "code",
   "execution_count": 3,
   "id": "d9edde7c-8a31-4cc2-945a-81ecdb2a73a0",
   "metadata": {},
   "outputs": [
    {
     "name": "stdout",
     "output_type": "stream",
     "text": [
      "Ones Tensor: \n",
      " tensor([[1, 1],\n",
      "        [1, 1]]) \n",
      "\n",
      "Random Tensor: \n",
      " tensor([[0.5312, 0.7504],\n",
      "        [0.1213, 0.8396]]) \n",
      "\n"
     ]
    }
   ],
   "source": [
    "# From other tensors\n",
    "x_ones = torch.ones_like(x_data) # retains the properties of x_data\n",
    "print(f\"Ones Tensor: \\n {x_ones} \\n\")\n",
    "x_rand = torch.rand_like(x_data, dtype=torch.float) # overrides the datatype of x_data\n",
    "print(f\"Random Tensor: \\n {x_rand} \\n\")"
   ]
  },
  {
   "cell_type": "code",
   "execution_count": 4,
   "id": "6593954c-8399-43e5-9a3f-fb9cd9a484c4",
   "metadata": {},
   "outputs": [
    {
     "name": "stdout",
     "output_type": "stream",
     "text": [
      "Random Tensor: \n",
      " tensor([[0.9631, 0.4014, 0.7564],\n",
      "        [0.5782, 0.5438, 0.1929]]) \n",
      "\n",
      "Ones Tensor: \n",
      " tensor([[1., 1., 1.],\n",
      "        [1., 1., 1.]]) \n",
      "\n",
      "Zeros Tensor: \n",
      " tensor([[0., 0., 0.],\n",
      "        [0., 0., 0.]])\n",
      "Empty Tensor: \n",
      " tensor([[0., 0., 0.],\n",
      "        [0., 0., 0.]])\n"
     ]
    }
   ],
   "source": [
    "# Populating tensors with random/constant values\n",
    "\n",
    "shape = (2, 3,) # tuple of tensor dimensions\n",
    "ones_tensor = torch.ones(shape)\n",
    "zeros_tensor = torch.zeros(shape)\n",
    "torch.manual_seed(1789)\n",
    "rand_tensor = torch.rand(shape)\n",
    "empty_tensor = torch.empty(shape) # memory is allocated, tensor populated with garbage- values\n",
    "print(f\"Random Tensor: \\n {rand_tensor} \\n\")\n",
    "print(f\"Ones Tensor: \\n {ones_tensor} \\n\")\n",
    "print(f\"Zeros Tensor: \\n {zeros_tensor}\")\n",
    "print(f\"Empty Tensor: \\n {empty_tensor}\")\n"
   ]
  },
  {
   "cell_type": "code",
   "execution_count": 5,
   "id": "e437f4da-cc48-4a3f-9a30-d8a7e9156f65",
   "metadata": {},
   "outputs": [
    {
     "name": "stdout",
     "output_type": "stream",
     "text": [
      "torch.Size([2, 2, 3]) \n",
      "\n",
      "tensor([[[0., 0., 0.],\n",
      "         [0., 0., 0.]],\n",
      "\n",
      "        [[0., 0., 0.],\n",
      "         [0., 0., 0.]]])\n"
     ]
    }
   ],
   "source": [
    "x = torch.empty(2, 2, 3)\n",
    "print(x.shape,\"\\n\")\n",
    "print(x)"
   ]
  },
  {
   "cell_type": "code",
   "execution_count": 6,
   "id": "d950eadd-9253-498e-8c80-379a0c82c4fa",
   "metadata": {},
   "outputs": [
    {
     "name": "stdout",
     "output_type": "stream",
     "text": [
      "torch.int16\n",
      "torch.float64\n",
      "torch.int8\n",
      "torch.int32\n",
      "torch.int64\n",
      "torch.bool\n"
     ]
    }
   ],
   "source": [
    "a = torch.ones((2, 3), dtype=torch.int16)\n",
    "print(a.dtype)\n",
    "a = torch.ones((2, 3), dtype=torch.float64)\n",
    "print(a.dtype)\n",
    "a = torch.ones((2, 3), dtype=torch.int8)\n",
    "print(a.dtype)\n",
    "a = torch.ones((2, 3), dtype=torch.int32)\n",
    "print(a.dtype)\n",
    "a = torch.ones((2, 3), dtype=torch.int64)\n",
    "print(a.dtype)\n",
    "a = torch.ones((2, 3), dtype=torch.bool)\n",
    "print(a.dtype)\n"
   ]
  },
  {
   "cell_type": "code",
   "execution_count": 7,
   "id": "a4cebd9a-52d3-450b-979b-76c968c49d83",
   "metadata": {},
   "outputs": [
    {
     "name": "stdout",
     "output_type": "stream",
     "text": [
      "Device tensor is initially stored on: cpu\n"
     ]
    }
   ],
   "source": [
    "# Create a tensor\n",
    "tensor = torch.rand(3, 2)\n",
    "print(f\"Device tensor is initially stored on: {tensor.device}\")\n",
    "\n"
   ]
  },
  {
   "cell_type": "code",
   "execution_count": 8,
   "id": "472b3163-42a9-4a81-9c48-736f92bd2990",
   "metadata": {},
   "outputs": [
    {
     "name": "stdout",
     "output_type": "stream",
     "text": [
      "CUDA is not available. Tensor remains on CPU.\n"
     ]
    }
   ],
   "source": [
    "# Check if GPU is available and move tensor to GPU if it is\n",
    "if torch.cuda.is_available():\n",
    "    tensor = tensor.to(\"cuda\")\n",
    "    print(f\"Device tensor is now stored on: {tensor.device}\")\n",
    "else:\n",
    "    print(\"CUDA is not available. Tensor remains on CPU.\")"
   ]
  },
  {
   "cell_type": "code",
   "execution_count": 9,
   "id": "0f770c6e-698a-46c4-819d-b360cf9ac2a5",
   "metadata": {},
   "outputs": [
    {
     "name": "stdout",
     "output_type": "stream",
     "text": [
      "First row: tensor([1., 1., 1., 1.]) \n",
      "\n",
      "First column: tensor([1., 1., 1., 1.]) \n",
      "\n",
      "Last column: tensor([1., 1., 1., 1.]) \n",
      "\n",
      "tensor([[1., 0., 1., 1.],\n",
      "        [1., 0., 1., 1.],\n",
      "        [1., 0., 1., 1.],\n",
      "        [1., 0., 1., 1.]])\n"
     ]
    }
   ],
   "source": [
    "tensor = torch.ones(4, 4)\n",
    "print(f\"First row: {tensor[0]}\",\"\\n\")\n",
    "print(f\"First column: {tensor[:, 0]}\",\"\\n\")\n",
    "print(f\"Last column: {tensor[:, -1]}\",\"\\n\")\n",
    "tensor[:,1] = 0 # set all elements in second column to 0\n",
    "print(tensor)\n"
   ]
  },
  {
   "cell_type": "code",
   "execution_count": 10,
   "id": "162a1fac-ea46-4602-89cb-554a9ca3702c",
   "metadata": {},
   "outputs": [
    {
     "name": "stdout",
     "output_type": "stream",
     "text": [
      "tensor([[1., 1.],\n",
      "        [1., 1.]]) \n",
      "\n",
      "tensor([[2., 2.],\n",
      "        [2., 2.]]) \n",
      "\n",
      "tensor([[3., 3.],\n",
      "        [3., 3.]]) \n",
      "\n",
      "tensor([[4., 4.],\n",
      "        [4., 4.]]) \n",
      "\n",
      "tensor([[1.4142, 1.4142],\n",
      "        [1.4142, 1.4142]]) \n",
      "\n"
     ]
    }
   ],
   "source": [
    "ones = torch.zeros(2, 2) + 1 # adding 1 to a tensor of zeros\n",
    "twos = torch.ones(2, 2) * 2 # multiplying a tensor of ones by 2\n",
    "threes = (torch.ones(2, 2) * 7 - 1) / 2 # chaining operations\n",
    "fours = twos ** 2 # squaring a tensor\n",
    "sqrt2s = twos ** 0.5 # square root of a tensor\n",
    "\n",
    "print(ones,\"\\n\")\n",
    "print(twos,\"\\n\")\n",
    "print(threes,\"\\n\")\n",
    "print(fours,\"\\n\")\n",
    "print(sqrt2s,\"\\n\")\n"
   ]
  },
  {
   "cell_type": "code",
   "execution_count": 11,
   "id": "9a2b5e32-6396-4110-bcc4-152bcac27185",
   "metadata": {},
   "outputs": [
    {
     "name": "stdout",
     "output_type": "stream",
     "text": [
      "tensor([[ 2.,  4.],\n",
      "        [ 8., 16.]]) \n",
      "\n",
      "tensor([[5., 5.],\n",
      "        [5., 5.]]) \n",
      "\n",
      "tensor([[12., 12.],\n",
      "        [12., 12.]]) \n",
      "\n"
     ]
    }
   ],
   "source": [
    "powers2 = twos ** torch.tensor([[1, 2], [3, 4]]) # element-wise exponentiation\n",
    "print(powers2,\"\\n\")\n",
    "fives = ones + fours # element-wise addition\n",
    "print(fives,\"\\n\")\n",
    "dozens = threes * fours # element-wise multiplication\n",
    "print(dozens,\"\\n\")"
   ]
  },
  {
   "cell_type": "code",
   "execution_count": 12,
   "id": "3c5daa85-0d6b-4e36-bca7-97a0d00e206c",
   "metadata": {},
   "outputs": [
    {
     "name": "stdout",
     "output_type": "stream",
     "text": [
      "tensor([[0.2569, 0.8153, 0.3774, 0.6209],\n",
      "        [0.8973, 0.6783, 0.8594, 0.6721]])\n",
      "tensor([[0.5138, 1.6306, 0.7549, 1.2419],\n",
      "        [1.7946, 1.3567, 1.7187, 1.3442]])\n"
     ]
    }
   ],
   "source": [
    "rand = torch.rand(2, 4) # random tensor\n",
    "doubled = rand * (torch.ones(1, 4) * 2) # broadcasting\n",
    "print(rand)\n",
    "print(doubled)\n"
   ]
  },
  {
   "cell_type": "code",
   "execution_count": 13,
   "id": "1815d9ed-186e-4140-be3d-ceb613ddc4a3",
   "metadata": {},
   "outputs": [
    {
     "name": "stdout",
     "output_type": "stream",
     "text": [
      "tensor([[[0.4544, 0.6353],\n",
      "         [0.5914, 0.9689],\n",
      "         [0.5715, 0.7136]],\n",
      "\n",
      "        [[0.4544, 0.6353],\n",
      "         [0.5914, 0.9689],\n",
      "         [0.5715, 0.7136]],\n",
      "\n",
      "        [[0.4544, 0.6353],\n",
      "         [0.5914, 0.9689],\n",
      "         [0.5715, 0.7136]],\n",
      "\n",
      "        [[0.4544, 0.6353],\n",
      "         [0.5914, 0.9689],\n",
      "         [0.5715, 0.7136]]]) \n",
      "\n",
      "tensor([[[0.4606, 0.7056],\n",
      "         [0.4606, 0.7056],\n",
      "         [0.4606, 0.7056]],\n",
      "\n",
      "        [[0.5921, 0.0557],\n",
      "         [0.5921, 0.0557],\n",
      "         [0.5921, 0.0557]],\n",
      "\n",
      "        [[0.3866, 0.2989],\n",
      "         [0.3866, 0.2989],\n",
      "         [0.3866, 0.2989]],\n",
      "\n",
      "        [[0.8993, 0.2320],\n",
      "         [0.8993, 0.2320],\n",
      "         [0.8993, 0.2320]]]) \n",
      "\n",
      "tensor([[[0.2450, 0.1956],\n",
      "         [0.8150, 0.1024],\n",
      "         [0.2813, 0.7884]],\n",
      "\n",
      "        [[0.2450, 0.1956],\n",
      "         [0.8150, 0.1024],\n",
      "         [0.2813, 0.7884]],\n",
      "\n",
      "        [[0.2450, 0.1956],\n",
      "         [0.8150, 0.1024],\n",
      "         [0.2813, 0.7884]],\n",
      "\n",
      "        [[0.2450, 0.1956],\n",
      "         [0.8150, 0.1024],\n",
      "         [0.2813, 0.7884]]]) \n",
      "\n"
     ]
    }
   ],
   "source": [
    "a = torch.ones(4, 3, 2)\n",
    "b = a * torch.rand(3, 2)\n",
    "print(b, \"\\n\") # 3rd & 2nd dims identical to a, dim 1 absent\n",
    "c = a * torch.rand(4, 1, 2)\n",
    "print(c, \"\\n\") # 3rd dim = 1, 2nd dim identical to a\n",
    "d = a * torch.rand(1, 3, 2)\n",
    "print(d, \"\\n\") # 3rd dim identical to a, 2nd dim = 1\n"
   ]
  },
  {
   "cell_type": "code",
   "execution_count": 14,
   "id": "b69d36c4-7e0a-4aa3-9986-de19acfd6d22",
   "metadata": {},
   "outputs": [
    {
     "name": "stdout",
     "output_type": "stream",
     "text": [
      "tensor([[0.8933, 0.1511, 0.7021, 0.4549],\n",
      "        [0.2857, 0.2995, 0.6397, 0.6817]]) \n",
      "\n",
      "tensor([[-0., -0., -0., -0.],\n",
      "        [1., -0., 1., -0.]]) \n",
      "\n",
      "tensor([[-1., -1., -1., -1.],\n",
      "        [ 0., -1.,  0., -1.]]) \n",
      "\n",
      "tensor([[-0.5000, -0.1511, -0.5000, -0.4549],\n",
      "        [ 0.2857, -0.2995,  0.5000, -0.5000]])\n"
     ]
    }
   ],
   "source": [
    "import math\n",
    "\n",
    "a = torch.rand(2, 4) * 2 - 1 # random tensor in range [-1, 1]\n",
    "print(torch.abs(a),\"\\n\") #absolute value\n",
    "print(torch.ceil(a),\"\\n\") #ceiling\n",
    "print(torch.floor(a),\"\\n\") #floor\n",
    "print(torch.clamp(a, -0.5, 0.5)) #clamping: values < -0.5 set to -0.5, values > 0.5 set to 0.5\n"
   ]
  },
  {
   "cell_type": "code",
   "execution_count": 15,
   "id": "ae398908-2224-4a86-82a8-f8d73e3366fa",
   "metadata": {},
   "outputs": [
    {
     "name": "stdout",
     "output_type": "stream",
     "text": [
      "\n",
      "Sine and arcsine:\n",
      "tensor([0.0000, 0.7854, 1.5708, 2.3562]) \n",
      "\n",
      "tensor([0.0000, 0.7071, 1.0000, 0.7071]) \n",
      "\n",
      "tensor([0.0000, 0.7854, 1.5708, 0.7854]) \n",
      "\n"
     ]
    }
   ],
   "source": [
    "angles = torch.tensor([0, math.pi / 4, math.pi / 2, 3 * math.pi / 4]) # angles in radians\n",
    "sines = torch.sin(angles)\n",
    "inverses = torch.asin(sines)\n",
    "print('\\nSine and arcsine:')\n",
    "print(angles,\"\\n\")\n",
    "print(sines,\"\\n\")\n",
    "print(inverses,\"\\n\")\n"
   ]
  },
  {
   "cell_type": "code",
   "execution_count": 16,
   "id": "8d61668c-a447-4db7-bfc8-cb18a4952e27",
   "metadata": {},
   "outputs": [
    {
     "name": "stdout",
     "output_type": "stream",
     "text": [
      "tensor([3, 2, 1])\n"
     ]
    }
   ],
   "source": [
    "b = torch.tensor([1, 5, 11])\n",
    "c = torch.tensor([2, 7, 10])\n",
    "print(torch.bitwise_xor(b, c))\n"
   ]
  },
  {
   "cell_type": "code",
   "execution_count": 17,
   "id": "0a057d3c-482a-499f-be7f-5908c3671434",
   "metadata": {},
   "outputs": [
    {
     "name": "stdout",
     "output_type": "stream",
     "text": [
      "\n",
      "Broadcasted, element-wise equality comparison:\n",
      "tensor([[1., 2.],\n",
      "        [3., 4.]]) \n",
      "\n",
      "tensor([[1., 1.]]) \n",
      "\n",
      "tensor([[ True, False],\n",
      "        [False, False]])\n"
     ]
    }
   ],
   "source": [
    "print('\\nBroadcasted, element-wise equality comparison:')\n",
    "d = torch.tensor([[1., 2.], [3., 4.]])\n",
    "print(d,\"\\n\")\n",
    "e = torch.ones(1, 2)  # many comparison ops support broadcasting!\n",
    "print(e,\"\\n\")\n",
    "print(torch.eq(d, e))  # returns a tensor of type bool\n"
   ]
  },
  {
   "cell_type": "code",
   "execution_count": 18,
   "id": "1a23c133-28df-40c8-a76f-5572c551e505",
   "metadata": {},
   "outputs": [
    {
     "name": "stdout",
     "output_type": "stream",
     "text": [
      "tensor(4.)\n",
      "4.0\n",
      "tensor(2.5000)\n",
      "tensor(1.2910)\n",
      "tensor(24.)\n",
      "tensor([1, 2])\n"
     ]
    }
   ],
   "source": [
    "d = torch.tensor([[1., 2.], [3., 4.]])\n",
    "print(torch.max(d))\n",
    "print(torch.max(d).item())\n",
    "print(torch.mean(d))\n",
    "print(torch.std(d))\n",
    "print(torch.prod(d))\n",
    "print(torch.unique(torch.tensor([1, 2, 1, 2, 1, 2])))  # filter unique elements\n"
   ]
  },
  {
   "cell_type": "code",
   "execution_count": 19,
   "id": "ba8a1131-b723-43eb-aaa0-17cb4321546e",
   "metadata": {},
   "outputs": [
    {
     "name": "stdout",
     "output_type": "stream",
     "text": [
      "tensor([0., 0., 1.]) \n",
      "\n",
      "tensor([[0.0902, 0.7986],\n",
      "        [0.4120, 0.8499]]) \n",
      "\n",
      "tensor([[0.2705, 2.3959],\n",
      "        [1.2360, 2.5498]]) \n",
      "\n",
      "torch.return_types.svd(\n",
      "U=tensor([[-0.6444, -0.7647],\n",
      "        [-0.7647,  0.6444]]),\n",
      "S=tensor([3.6687, 0.6192]),\n",
      "V=tensor([[-0.3051,  0.9523],\n",
      "        [-0.9523, -0.3051]])) \n",
      "\n"
     ]
    },
    {
     "name": "stderr",
     "output_type": "stream",
     "text": [
      "C:\\Users\\dhanu\\AppData\\Local\\Temp\\ipykernel_15952\\3018723044.py:4: UserWarning: Using torch.cross without specifying the dim arg is deprecated.\n",
      "Please either pass the dim explicitly or simply use torch.linalg.cross.\n",
      "The default value of dim will change to agree with that of linalg.cross in a future release. (Triggered internally at C:\\actions-runner\\_work\\pytorch\\pytorch\\builder\\windows\\pytorch\\aten\\src\\ATen\\native\\Cross.cpp:66.)\n",
      "  print(torch.cross(v1, v2),\"\\n\")  # returns cross product of vectors v1 and v2\n"
     ]
    }
   ],
   "source": [
    "v1 = torch.tensor([1., 0., 0.])  # x unit vector\n",
    "v2 = torch.tensor([0., 1., 0.])  # y unit vector\n",
    "\n",
    "print(torch.cross(v1, v2),\"\\n\")  # returns cross product of vectors v1 and v2\n",
    "\n",
    "m1 = torch.rand(2, 2)  # random matrix\n",
    "m2 = torch.tensor([[3., 0.], [0., 3.]])  # three times identity matrix\n",
    "print(m1,\"\\n\")\n",
    "m3 = torch.matmul(m1, m2)  # same as m3 = m1@m2\n",
    "print(m3,\"\\n\")\n",
    "print(torch.svd(m3),\"\\n\")  # singular value decomposition\n"
   ]
  },
  {
   "cell_type": "code",
   "execution_count": 20,
   "id": "7244b725-87ee-4f15-9688-4de9d9a6789c",
   "metadata": {},
   "outputs": [
    {
     "name": "stdout",
     "output_type": "stream",
     "text": [
      "a:\n",
      "tensor([0.0000, 0.7854, 1.5708, 2.3562])\n",
      "tensor([0.0000, 0.7071, 1.0000, 0.7071])\n",
      "tensor([0.0000, 0.7854, 1.5708, 2.3562])\n",
      "\n",
      "b:\n",
      "tensor([0.0000, 0.7854, 1.5708, 2.3562])\n",
      "tensor([0.0000, 0.7071, 1.0000, 0.7071])\n",
      "tensor([0.0000, 0.7071, 1.0000, 0.7071])\n"
     ]
    }
   ],
   "source": [
    "a = torch.tensor([0, math.pi / 4, math.pi / 2, 3 * math.pi / 4])\n",
    "print('a:')\n",
    "print(a)\n",
    "print(torch.sin(a))  # this operation creates a new tensor in memory\n",
    "print(a)  # a has not changed\n",
    "\n",
    "b = torch.tensor([0, math.pi / 4, math.pi / 2, 3 * math.pi / 4])\n",
    "print('\\nb:')\n",
    "print(b)\n",
    "print(torch.sin_(b))  # note the underscore\n",
    "print(b)  # b has changed\n"
   ]
  },
  {
   "cell_type": "code",
   "execution_count": 21,
   "id": "ec8f64a2-a6b0-40a2-8f4f-8ed718058a3f",
   "metadata": {},
   "outputs": [
    {
     "name": "stdout",
     "output_type": "stream",
     "text": [
      "Before:\n",
      "tensor([[1., 1.],\n",
      "        [1., 1.]])\n",
      "tensor([[0.5300, 0.3159],\n",
      "        [0.7081, 0.1727]])\n",
      "\n",
      "After adding:\n",
      "tensor([[1.5300, 1.3159],\n",
      "        [1.7081, 1.1727]])\n",
      "tensor([[1.5300, 1.3159],\n",
      "        [1.7081, 1.1727]])\n",
      "tensor([[0.5300, 0.3159],\n",
      "        [0.7081, 0.1727]])\n",
      "\n",
      "After multiplying\n",
      "tensor([[0.2809, 0.0998],\n",
      "        [0.5014, 0.0298]])\n",
      "tensor([[0.2809, 0.0998],\n",
      "        [0.5014, 0.0298]])\n"
     ]
    }
   ],
   "source": [
    "a = torch.ones(2, 2)\n",
    "b = torch.rand(2, 2)\n",
    "print('Before:')\n",
    "print(a)\n",
    "print(b)\n",
    "print('\\nAfter adding:')\n",
    "print(a.add_(b))\n",
    "print(a)\n",
    "print(b)\n",
    "print('\\nAfter multiplying')\n",
    "print(b.mul_(b))\n",
    "print(b)\n"
   ]
  },
  {
   "cell_type": "code",
   "execution_count": 22,
   "id": "a0ea83a2-cf6c-4ae4-9054-288bfbf750fc",
   "metadata": {},
   "outputs": [
    {
     "name": "stdout",
     "output_type": "stream",
     "text": [
      "tensor([[0., 0.],\n",
      "        [0., 0.]]) \n",
      "\n",
      "tensor([[0.4621, 0.5195],\n",
      "        [0.1035, 0.1086]]) \n",
      "\n",
      "tensor([[0.7443, 0.7234],\n",
      "        [0.7417, 0.6321]]) \n",
      "\n"
     ]
    }
   ],
   "source": [
    "a = torch.rand(2, 2)\n",
    "b = torch.rand(2, 2)\n",
    "c = torch.zeros(2, 2)\n",
    "old_id = id(c)\n",
    "print(c,\"\\n\")\n",
    "d = torch.matmul(a, b, out=c)\n",
    "print(c,\"\\n\") # contents of c have changed\n",
    "\n",
    "assert c is d # test c & d are same object, not just containing equal values # make sure that our new c is the same object as the old one\n",
    "assert id(c) == old_id\n",
    "\n",
    "torch.rand(2, 2, out=c) # works for creation too!\n",
    "print(c,\"\\n\") # c has changed again\n",
    "\n",
    "assert id(c) == old_id # still the same object!\n"
   ]
  },
  {
   "cell_type": "code",
   "execution_count": 23,
   "id": "4d6bb720-0008-4102-a9c8-ff46878856e2",
   "metadata": {},
   "outputs": [
    {
     "name": "stdout",
     "output_type": "stream",
     "text": [
      "tensor([[1, 2],\n",
      "        [3, 4]]) \n",
      "\n",
      "tensor([[[0.2893, 0.1629, 0.1285,  ..., 0.2148, 0.4567, 0.4887],\n",
      "         [0.4287, 0.6620, 0.0410,  ..., 0.0035, 0.2118, 0.5679],\n",
      "         [0.5858, 0.9733, 0.3692,  ..., 0.6938, 0.0219, 0.6840],\n",
      "         ...,\n",
      "         [0.7916, 0.7293, 0.6940,  ..., 0.1591, 0.5954, 0.1723],\n",
      "         [0.3036, 0.3075, 0.0482,  ..., 0.1157, 0.1832, 0.4325],\n",
      "         [0.0244, 0.9426, 0.9898,  ..., 0.9208, 0.1439, 0.2637]]]) \n",
      "\n",
      "torch.Size([1, 20]) \n",
      "\n",
      "torch.Size([20]) \n",
      "\n",
      "tensor([[0.2854, 0.0043, 0.2710],\n",
      "        [0.6577, 0.9595, 0.6804],\n",
      "        [0.7525, 0.3462, 0.6816],\n",
      "        [0.7475, 0.8048, 0.6805],\n",
      "        [0.6754, 0.7080, 0.1422],\n",
      "        [0.7200, 0.5164, 0.3350]])\n"
     ]
    }
   ],
   "source": [
    "a = torch.tensor([1, 2, 3, 4])\n",
    "a_reshaped = torch.reshape(a, (2, 2))\n",
    "print(a_reshaped,\"\\n\")\n",
    "\n",
    "b = torch.rand(56, 56)  # Consider 56x56 image\n",
    "c = b.unsqueeze(0)  # unsqueeze(i) adds dimension of length 1 at index i\n",
    "print(c,\"\\n\")  # c is now a batch of 1 image of shape 56x56\n",
    "\n",
    "d = torch.rand(1, 20)\n",
    "print(d.shape,\"\\n\")\n",
    "e = d.squeeze(0)  # squeeze(i) removes a dimension if shape[i] is 1\n",
    "print(e.shape,\"\\n\")\n",
    "\n",
    "x, y, z = torch.rand(2, 3), torch.rand(2, 3), torch.rand(2, 3)\n",
    "cat_tensor = torch.cat((x, y, z), dim=0)  # concatenates tensors along rows\n",
    "print(cat_tensor)\n"
   ]
  },
  {
   "cell_type": "code",
   "execution_count": 24,
   "id": "ea378905-7434-4378-b635-2d863c71d6e0",
   "metadata": {},
   "outputs": [
    {
     "name": "stdout",
     "output_type": "stream",
     "text": [
      "tensor([[  1., 561.],\n",
      "        [  1.,   1.]])\n"
     ]
    }
   ],
   "source": [
    "a = torch.ones(2, 2)\n",
    "b=a\n",
    "a[0][1] = 561 # we change a...\n",
    "print(b) # ...and b is also altered\n"
   ]
  },
  {
   "cell_type": "code",
   "execution_count": 25,
   "id": "f336f382-baeb-4e2e-a261-5361d2991844",
   "metadata": {},
   "outputs": [
    {
     "name": "stdout",
     "output_type": "stream",
     "text": [
      "tensor([[True, True],\n",
      "        [True, True]])\n",
      "tensor([[1., 1.],\n",
      "        [1., 1.]])\n"
     ]
    }
   ],
   "source": [
    "a = torch.ones(2, 2)\n",
    "b = a.clone()\n",
    "\n",
    "assert b is not a # different objects in memory...\n",
    "print(torch.eq(a,b)) # ...but still with the same contents!\n",
    "a[0][1] = 561 # a changes...\n",
    "print(b)   # ...but b is still all ones\n"
   ]
  },
  {
   "cell_type": "code",
   "execution_count": 26,
   "id": "9cba03d6-6ae5-4a87-8606-54f309cdee03",
   "metadata": {},
   "outputs": [
    {
     "name": "stdout",
     "output_type": "stream",
     "text": [
      "MPS available!\n"
     ]
    }
   ],
   "source": [
    "if torch.cuda.is_available():\n",
    "    print('We have a GPU!')\n",
    "else:\n",
    "    try:\n",
    "        device = torch.device(\"mps\")\n",
    "        print(\"MPS available!\")\n",
    "    except:\n",
    "        print('Sorry, CPU only.')\n"
   ]
  },
  {
   "cell_type": "code",
   "execution_count": 27,
   "id": "df1c750f-6f6c-4dcb-8d19-feab5afe95bb",
   "metadata": {},
   "outputs": [
    {
     "name": "stdout",
     "output_type": "stream",
     "text": [
      "NumPy Array:\n",
      "[[1. 1. 1.]\n",
      " [1. 1. 1.]]\n",
      "\n",
      "PyTorch Tensor:\n",
      "tensor([[1., 1., 1.],\n",
      "        [1., 1., 1.]], dtype=torch.float64)\n",
      "\n",
      "Random PyTorch Tensor:\n",
      "tensor([[0.1107, 0.1027, 0.5759],\n",
      "        [0.5720, 0.0948, 0.9340]])\n",
      "\n",
      "Converted NumPy Array:\n",
      "[[0.11072505 0.10266209 0.5759023 ]\n",
      " [0.5719823  0.09482563 0.9340007 ]]\n",
      "\n",
      "Updated PyTorch Tensor from NumPy Array:\n",
      "tensor([[ 1.,  1.,  1.],\n",
      "        [ 1., 23.,  1.]], dtype=torch.float64)\n",
      "\n",
      "Updated NumPy Array from PyTorch Tensor:\n",
      "[[ 0.11072505  0.10266209  0.5759023 ]\n",
      " [ 0.5719823  17.          0.9340007 ]]\n"
     ]
    }
   ],
   "source": [
    "import numpy as np\n",
    "import torch\n",
    "\n",
    "# Creating a NumPy array\n",
    "numpy_array = np.ones((2, 3))\n",
    "print(\"NumPy Array:\")\n",
    "print(numpy_array)\n",
    "\n",
    "# Converting NumPy array to PyTorch tensor\n",
    "pytorch_tensor = torch.from_numpy(numpy_array)\n",
    "print(\"\\nPyTorch Tensor:\")\n",
    "print(pytorch_tensor)\n",
    "\n",
    "# Creating a random PyTorch tensor\n",
    "pytorch_rand = torch.rand(2, 3)\n",
    "print(\"\\nRandom PyTorch Tensor:\")\n",
    "print(pytorch_rand)\n",
    "\n",
    "# Converting PyTorch tensor to NumPy array\n",
    "numpy_rand = pytorch_rand.numpy()\n",
    "print(\"\\nConverted NumPy Array:\")\n",
    "print(numpy_rand)\n",
    "\n",
    "# Changes to NumPy array reflect in the PyTorch tensor and vice versa\n",
    "numpy_array[1, 1] = 23\n",
    "print(\"\\nUpdated PyTorch Tensor from NumPy Array:\")\n",
    "print(pytorch_tensor)\n",
    "\n",
    "pytorch_rand[1, 1] = 17\n",
    "print(\"\\nUpdated NumPy Array from PyTorch Tensor:\")\n",
    "print(numpy_rand)\n"
   ]
  },
  {
   "cell_type": "code",
   "execution_count": 28,
   "id": "8def5662-3c12-4d60-9345-4e307b8d5263",
   "metadata": {},
   "outputs": [
    {
     "name": "stdout",
     "output_type": "stream",
     "text": [
      "tensor([[ 1.,  1.,  1.],\n",
      "        [ 1., 23.,  1.]], dtype=torch.float64) \n",
      "\n",
      "[[ 0.11072505  0.10266209  0.5759023 ]\n",
      " [ 0.5719823  17.          0.9340007 ]]\n"
     ]
    }
   ],
   "source": [
    "numpy_array[1, 1] = 23\n",
    "print(pytorch_tensor,\"\\n\")\n",
    "pytorch_rand[1, 1] = 17\n",
    "print(numpy_rand)"
   ]
  },
  {
   "cell_type": "code",
   "execution_count": 29,
   "id": "a100897c-d1d0-45fd-83a6-2a441e41d14a",
   "metadata": {},
   "outputs": [
    {
     "name": "stdout",
     "output_type": "stream",
     "text": [
      "tensor([0, 0, 0, 0])\n"
     ]
    }
   ],
   "source": [
    "# 1. Obtain a tensor containing only zeroes from the given tensor\n",
    "pattern = torch.tensor([\n",
    "    [1, 1, 1, 1],\n",
    "    [1, 0, 0, 1],\n",
    "    [1, 0, 0, 1],\n",
    "    [1, 1, 1, 1]\n",
    "])\n",
    "\n",
    "# Only Zeros\n",
    "z_tensor = pattern[pattern == 0]\n",
    "print(z_tensor)"
   ]
  },
  {
   "cell_type": "code",
   "execution_count": 30,
   "id": "2951b9e8-2c4f-4508-88e3-ca990e9a38d6",
   "metadata": {},
   "outputs": [
    {
     "name": "stdout",
     "output_type": "stream",
     "text": [
      "(1, 3, 3)\n"
     ]
    }
   ],
   "source": [
    "# 2. Create a Numpy array of shape (1,3,3) using PyTorch\n",
    "import numpy as np\n",
    "\n",
    "tensor = torch.randn(1, 3, 3) \n",
    "numpy_arr = tensor.numpy()\n",
    "print(numpy_arr.shape)"
   ]
  },
  {
   "cell_type": "code",
   "execution_count": 31,
   "id": "95c4f0d2-e6b2-4e8f-9c8c-ea49172dd992",
   "metadata": {},
   "outputs": [
    {
     "name": "stdout",
     "output_type": "stream",
     "text": [
      "Product Tensor:\n",
      " tensor([[[-1.3042, -1.9854],\n",
      "         [ 0.7371,  1.1139]],\n",
      "\n",
      "        [[ 0.8299, -0.2286],\n",
      "         [-1.1302,  0.2267]]])\n",
      "Max: 1.1138980388641357\n",
      "Min: -1.9854429960250854\n",
      "Mean: -0.2176162600517273\n",
      "Standard Deviation: 1.141305923461914\n"
     ]
    }
   ],
   "source": [
    "# 3. Create two random (2,2,2) tensors and find the max, min, mean, std of their product (matrix multiplication)\n",
    "\n",
    "tensor1 = torch.randn(2, 2, 2)\n",
    "tensor2 = torch.randn(2, 2, 2)\n",
    "prod = torch.matmul(tensor1, tensor2)\n",
    "max_value = prod.max()\n",
    "min_value = prod.min()\n",
    "mean_value = prod.mean()\n",
    "std_value = prod.std()\n",
    "\n",
    "print(\"Product Tensor:\\n\", prod)\n",
    "print(\"Max:\", max_value.item())\n",
    "print(\"Min:\", min_value.item())\n",
    "print(\"Mean:\", mean_value.item())\n",
    "print(\"Standard Deviation:\", std_value.item())\n"
   ]
  },
  {
   "cell_type": "code",
   "execution_count": 32,
   "id": "fccbe133-3b0f-4e8c-b6f3-95b137c96d5e",
   "metadata": {},
   "outputs": [
    {
     "name": "stdout",
     "output_type": "stream",
     "text": [
      "tensor([[ 1.2602,  0.5780,  0.5744, -0.9826,  0.1424, -1.8930,  0.9365,  0.8699,\n",
      "         -0.8946, -0.9663, -0.2023, -0.2323, -0.4154, -1.0850, -0.0732,  1.0901,\n",
      "         -0.7070, -0.8436,  0.9268, -0.1726, -0.2173,  0.4848, -0.1662,  0.4503,\n",
      "         -0.0092,  1.5006,  0.7487,  0.6846, -0.5608, -0.4162, -0.1033,  0.1226,\n",
      "          1.4508,  0.8665, -0.0797, -0.7292, -1.1314,  0.0778, -0.1277,  0.0503,\n",
      "         -0.4481, -0.9796, -0.3960, -2.0513,  1.2842, -0.7467,  0.1248,  0.5606,\n",
      "          0.1001,  0.5157, -0.1522, -1.9656,  1.0616,  0.1799,  1.3713,  1.0426,\n",
      "          0.3672,  1.5418, -0.7915, -0.0170, -0.6112,  1.1928, -2.2906, -0.6567,\n",
      "         -0.3279, -0.3063,  0.1272, -1.8845,  0.2662, -0.3030, -0.7385,  0.5151,\n",
      "         -0.5311,  0.7734, -0.7320,  0.2891, -1.5840,  0.3405,  0.8430,  1.0413,\n",
      "         -0.0503, -1.6872,  0.0707,  2.1473, -0.1485,  0.1352, -0.7820, -0.5942,\n",
      "          1.0044,  0.2821, -0.0440,  0.7538, -0.4463,  0.2344, -1.4460,  0.1229,\n",
      "         -1.3901, -0.0677,  0.1011,  0.6890,  0.7126,  0.9005,  0.4541, -0.0462,\n",
      "          0.2465,  0.7083, -0.2847,  0.0896,  0.4255,  0.2754,  1.1321,  0.5215,\n",
      "          1.1988,  0.0619,  0.4396,  0.9245,  1.4431,  0.1665,  0.7604,  0.5556,\n",
      "         -0.3143,  0.0951, -0.4134,  0.1693,  0.6420, -0.0442, -2.2596,  0.1523,\n",
      "          0.5230, -0.6470, -1.4361,  0.4539,  0.0603, -0.0111,  0.5290, -0.9925,\n",
      "          0.7494,  2.2327, -1.2662, -0.7043, -0.6055,  0.2822,  1.1704, -1.2074,\n",
      "         -0.6473, -1.1789,  0.0521, -0.8327,  0.8583,  1.0157,  0.3603,  0.5320,\n",
      "         -0.9791,  0.0407, -0.1066,  2.0327,  0.7885,  3.1398, -0.3291, -0.1212,\n",
      "          2.2899, -0.2468,  0.0720, -2.2610,  0.0420, -1.3110,  0.3399, -0.1683,\n",
      "         -0.4550, -0.5068,  1.0496,  1.0678,  0.5999, -0.1371,  0.9261,  2.8586,\n",
      "         -0.1891,  3.0470, -0.4644, -0.5647, -1.8262, -0.5618, -0.7246, -0.8017,\n",
      "          1.0766,  1.1668, -0.2154,  0.5737,  0.1988, -0.7115, -0.0252, -0.3748,\n",
      "         -0.6391, -1.4675,  0.2491,  0.2192,  0.2565,  0.2048,  0.5100,  0.8575,\n",
      "         -1.2448,  1.7390,  0.7651,  0.3518,  0.0170,  2.0986, -1.3562,  2.2055,\n",
      "         -1.9508,  0.4116,  0.5309, -0.6636, -1.0643,  0.7036,  0.3897,  0.4712,\n",
      "         -0.4028,  1.1129, -0.0827, -2.0490,  0.1827,  0.8388,  0.1426, -0.8821,\n",
      "          0.1120, -1.0430, -1.5532,  0.4759, -0.2587,  0.3948,  0.3293,  0.2244,\n",
      "         -0.3484, -0.6782, -0.6596,  1.1165, -0.9783,  1.2875, -1.1195, -1.0551,\n",
      "         -0.9856,  0.0139,  0.9103,  2.0918, -0.3066, -1.3611,  0.2230,  0.4313,\n",
      "          0.2942,  0.7013, -1.2940,  0.0177,  1.0875, -0.7077,  0.0488,  0.6589]])\n",
      "torch.Size([1, 256])\n"
     ]
    }
   ],
   "source": [
    "# 4. Convert a 16x16 tensor into 1x256 tensor\n",
    "\n",
    "tensor = torch.randn(16, 16)\n",
    "reshape_tensor = tensor.view(1, 256)\n",
    "print(reshape_tensor)\n",
    "print(reshape_tensor.shape)\n"
   ]
  },
  {
   "cell_type": "code",
   "execution_count": 33,
   "id": "49869cb8-cc37-4504-9f44-8ab14292237d",
   "metadata": {},
   "outputs": [
    {
     "name": "stdout",
     "output_type": "stream",
     "text": [
      "tensor([[-0.8973,  1.0000],\n",
      "        [ 1.1153,  1.0000],\n",
      "        [-0.4417,  1.0000],\n",
      "        [-1.0744,  1.0000],\n",
      "        [-1.4133,  1.0000],\n",
      "        [-1.1884,  1.0000],\n",
      "        [-1.2737,  1.0000],\n",
      "        [-0.3490,  1.0000],\n",
      "        [ 0.8529,  1.0000],\n",
      "        [-0.6324,  1.0000],\n",
      "        [ 0.3688,  1.0000],\n",
      "        [-0.3774,  1.0000],\n",
      "        [ 1.8798,  1.0000],\n",
      "        [-0.6694,  1.0000],\n",
      "        [ 0.5066,  1.0000],\n",
      "        [-1.2047,  1.0000],\n",
      "        [ 0.9593,  1.0000],\n",
      "        [-1.6037,  1.0000],\n",
      "        [-0.5977,  1.0000],\n",
      "        [ 1.7874,  1.0000],\n",
      "        [-0.7021,  1.0000],\n",
      "        [ 0.0105,  1.0000],\n",
      "        [ 0.2765,  1.0000],\n",
      "        [ 0.8246,  1.0000],\n",
      "        [ 1.2531,  1.0000],\n",
      "        [ 0.7065,  1.0000],\n",
      "        [-0.5122,  1.0000],\n",
      "        [-0.0184,  1.0000],\n",
      "        [-0.0538,  1.0000],\n",
      "        [ 0.1870,  1.0000],\n",
      "        [ 0.4142,  1.0000],\n",
      "        [ 2.1545,  1.0000],\n",
      "        [-0.6922,  1.0000],\n",
      "        [-2.3479,  1.0000],\n",
      "        [-1.2347,  1.0000],\n",
      "        [ 0.0408,  1.0000],\n",
      "        [-1.3589,  1.0000],\n",
      "        [ 0.5177,  1.0000],\n",
      "        [ 0.6408,  1.0000],\n",
      "        [ 0.0045,  1.0000],\n",
      "        [-0.2314,  1.0000],\n",
      "        [-1.7045,  1.0000],\n",
      "        [ 0.0268,  1.0000],\n",
      "        [-1.1146,  1.0000],\n",
      "        [-0.9169,  1.0000],\n",
      "        [ 0.8724,  1.0000],\n",
      "        [ 1.3090,  1.0000],\n",
      "        [ 1.8199,  1.0000],\n",
      "        [-1.7948,  1.0000],\n",
      "        [-1.6012,  1.0000],\n",
      "        [ 0.6288,  1.0000],\n",
      "        [ 0.0535,  1.0000],\n",
      "        [-0.4031,  1.0000],\n",
      "        [-1.0008,  1.0000],\n",
      "        [-1.0444,  1.0000],\n",
      "        [-0.1974,  1.0000],\n",
      "        [-0.6347,  1.0000],\n",
      "        [-0.5189,  1.0000],\n",
      "        [ 0.9743,  1.0000],\n",
      "        [-1.4304,  1.0000],\n",
      "        [ 0.4181,  1.0000],\n",
      "        [-1.0423,  1.0000],\n",
      "        [-1.3168,  1.0000],\n",
      "        [ 0.9065,  1.0000],\n",
      "        [ 0.3819,  1.0000],\n",
      "        [ 0.3446,  1.0000],\n",
      "        [-1.2774,  1.0000],\n",
      "        [-0.0266,  1.0000],\n",
      "        [ 0.9435,  1.0000],\n",
      "        [-0.4828,  1.0000],\n",
      "        [ 0.5691,  1.0000],\n",
      "        [ 2.5733,  1.0000],\n",
      "        [ 0.0402,  1.0000],\n",
      "        [ 1.0237,  1.0000],\n",
      "        [-0.2175,  1.0000],\n",
      "        [ 0.3170,  1.0000],\n",
      "        [-0.0158,  1.0000],\n",
      "        [ 0.3165,  1.0000],\n",
      "        [-0.2638,  1.0000],\n",
      "        [-0.7600,  1.0000],\n",
      "        [-0.0519,  1.0000],\n",
      "        [-2.2465,  1.0000],\n",
      "        [-1.3194,  1.0000],\n",
      "        [ 0.4690,  1.0000],\n",
      "        [ 3.8731,  1.0000],\n",
      "        [-0.5535,  1.0000],\n",
      "        [ 0.5144,  1.0000],\n",
      "        [-0.7541,  1.0000],\n",
      "        [-0.1244,  1.0000],\n",
      "        [ 0.2228,  1.0000],\n",
      "        [ 0.8188,  1.0000],\n",
      "        [ 1.9996,  1.0000],\n",
      "        [-0.1758,  1.0000],\n",
      "        [-0.6652,  1.0000],\n",
      "        [ 2.5769,  1.0000],\n",
      "        [-0.2458,  1.0000],\n",
      "        [-0.7418,  1.0000],\n",
      "        [-0.3920,  1.0000],\n",
      "        [-0.2877,  1.0000],\n",
      "        [ 1.5918,  1.0000]]) tensor([[-0.5390],\n",
      "        [ 3.1147],\n",
      "        [ 0.0711],\n",
      "        [-1.3492],\n",
      "        [-1.7586],\n",
      "        [-1.4006],\n",
      "        [-1.3822],\n",
      "        [ 0.0260],\n",
      "        [ 2.6576],\n",
      "        [-0.2233],\n",
      "        [ 1.8194],\n",
      "        [ 0.1890],\n",
      "        [ 4.6005],\n",
      "        [-0.4391],\n",
      "        [ 1.9231],\n",
      "        [-1.4531],\n",
      "        [ 3.0448],\n",
      "        [-2.1340],\n",
      "        [-0.1351],\n",
      "        [ 4.7241],\n",
      "        [-0.4223],\n",
      "        [ 0.9904],\n",
      "        [ 1.6631],\n",
      "        [ 2.6404],\n",
      "        [ 3.3810],\n",
      "        [ 2.4676],\n",
      "        [ 0.1196],\n",
      "        [ 1.0968],\n",
      "        [ 0.7526],\n",
      "        [ 1.3558],\n",
      "        [ 1.8486],\n",
      "        [ 5.3326],\n",
      "        [-0.3589],\n",
      "        [-3.5914],\n",
      "        [-1.5015],\n",
      "        [ 1.1160],\n",
      "        [-1.7228],\n",
      "        [ 2.1498],\n",
      "        [ 2.2535],\n",
      "        [ 0.9236],\n",
      "        [ 0.5554],\n",
      "        [-2.3233],\n",
      "        [ 0.8631],\n",
      "        [-1.3083],\n",
      "        [-0.7342],\n",
      "        [ 2.5920],\n",
      "        [ 3.5959],\n",
      "        [ 4.6576],\n",
      "        [-2.6439],\n",
      "        [-2.0753],\n",
      "        [ 2.1445],\n",
      "        [ 1.1812],\n",
      "        [ 0.2457],\n",
      "        [-1.0136],\n",
      "        [-1.1391],\n",
      "        [ 0.6449],\n",
      "        [-0.4885],\n",
      "        [ 0.0194],\n",
      "        [ 2.8600],\n",
      "        [-1.9288],\n",
      "        [ 2.0216],\n",
      "        [-1.0603],\n",
      "        [-1.6380],\n",
      "        [ 2.7207],\n",
      "        [ 1.5936],\n",
      "        [ 1.7114],\n",
      "        [-1.6424],\n",
      "        [ 1.2184],\n",
      "        [ 2.8899],\n",
      "        [ 0.0429],\n",
      "        [ 2.1581],\n",
      "        [ 6.1581],\n",
      "        [ 0.9626],\n",
      "        [ 3.0683],\n",
      "        [ 0.4799],\n",
      "        [ 1.6927],\n",
      "        [ 0.9751],\n",
      "        [ 1.6855],\n",
      "        [ 0.5047],\n",
      "        [-0.5194],\n",
      "        [ 0.8566],\n",
      "        [-3.4701],\n",
      "        [-1.6248],\n",
      "        [ 1.9141],\n",
      "        [ 8.5662],\n",
      "        [-0.3393],\n",
      "        [ 2.1683],\n",
      "        [-0.5780],\n",
      "        [ 0.8423],\n",
      "        [ 1.5418],\n",
      "        [ 2.5466],\n",
      "        [ 4.9967],\n",
      "        [ 0.7166],\n",
      "        [-0.2164],\n",
      "        [ 6.1928],\n",
      "        [ 0.4756],\n",
      "        [-0.5024],\n",
      "        [ 0.2565],\n",
      "        [ 0.2649],\n",
      "        [ 4.2714]])\n",
      "y = 1.9901368618011475x + 0.9964011311531067\n"
     ]
    }
   ],
   "source": [
    "x = torch.randn(100, 1)\n",
    "Y = 2*x + 1 + torch.randn(100, 1)*0.1\n",
    "X = torch.cat([x, torch.ones_like(x)], dim=1)\n",
    "coeffs = torch.inverse(X.t() @ X) @ X.t() @ Y\n",
    "a, b = coeffs[0].item(), coeffs[1].item()\n",
    "print(X,Y)\n",
    "print(f\"y = {a}x + {b}\")"
   ]
  },
  {
   "cell_type": "code",
   "execution_count": null,
   "id": "9cfc4568-88e0-44f0-b384-ec1018e9fbb5",
   "metadata": {},
   "outputs": [],
   "source": []
  }
 ],
 "metadata": {
  "kernelspec": {
   "display_name": "Python 3 (ipykernel)",
   "language": "python",
   "name": "python3"
  },
  "language_info": {
   "codemirror_mode": {
    "name": "ipython",
    "version": 3
   },
   "file_extension": ".py",
   "mimetype": "text/x-python",
   "name": "python",
   "nbconvert_exporter": "python",
   "pygments_lexer": "ipython3",
   "version": "3.11.9"
  }
 },
 "nbformat": 4,
 "nbformat_minor": 5
}
